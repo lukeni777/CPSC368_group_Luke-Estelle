{
 "cells": [
  {
   "cell_type": "code",
   "execution_count": 1,
   "metadata": {},
   "outputs": [],
   "source": [
    "import pandas as pd \n",
    "import numpy as np \n"
   ]
  },
  {
   "cell_type": "code",
   "execution_count": 2,
   "metadata": {},
   "outputs": [
    {
     "name": "stdout",
     "output_type": "stream",
     "text": [
      "(23685, 8)\n",
      "(3292, 6)\n",
      "(3874, 7)\n"
     ]
    }
   ],
   "source": [
    "medicare_tele_trends = pd.read_csv('data/clean/medtrend_for_sql.csv')\n",
    "telemedicine_use = pd.read_csv('data/clean/telemeduse_for_sql.csv')\n",
    "telemedicine_services = pd.read_csv('data/clean/tele_service_for_sql.csv')\n",
    "\n",
    "print(medicare_tele_trends.shape)\n",
    "print(telemedicine_use.shape)\n",
    "print(telemedicine_services.shape)"
   ]
  },
  {
   "cell_type": "code",
   "execution_count": 3,
   "metadata": {},
   "outputs": [
    {
     "name": "stdout",
     "output_type": "stream",
     "text": [
      "Missing values in medicare_tele_trends:\n",
      "row_id                   0\n",
      "Year-Quarter             0\n",
      "State                    0\n",
      "Bene_Sex_Desc            0\n",
      "Bene_Age_Desc            0\n",
      "Total_Bene_TH_Elig       0\n",
      "Total_Bene_Telehealth    0\n",
      "Pct_Telehealth           0\n",
      "dtype: int64\n",
      "\n",
      "Missing values in telemedicine_use:\n",
      "row_id            0\n",
      "Year-Quarter      0\n",
      "Group             0\n",
      "State             0\n",
      "Subgroup          0\n",
      "Value           188\n",
      "dtype: int64\n",
      "\n",
      "Missing values in telemedicine_services:\n",
      "Year-Quarter                0\n",
      "State                       0\n",
      "Year                        0\n",
      "Month                       0\n",
      "TelehealthType              0\n",
      "ServiceCount                0\n",
      "RatePer1000Beneficiaries    0\n",
      "dtype: int64\n"
     ]
    }
   ],
   "source": [
    "print(\"Missing values in medicare_tele_trends:\")\n",
    "print(medicare_tele_trends.isnull().sum())\n",
    "\n",
    "print(\"\\nMissing values in telemedicine_use:\")\n",
    "print(telemedicine_use.isnull().sum())\n",
    "\n",
    "print(\"\\nMissing values in telemedicine_services:\")\n",
    "print(telemedicine_services.isnull().sum())\n"
   ]
  },
  {
   "cell_type": "code",
   "execution_count": 4,
   "metadata": {},
   "outputs": [
    {
     "name": "stdout",
     "output_type": "stream",
     "text": [
      "Missing values in telemedicine_use after filling 'Value' column:\n",
      "row_id          0\n",
      "Year-Quarter    0\n",
      "Group           0\n",
      "State           0\n",
      "Subgroup        0\n",
      "Value           0\n",
      "dtype: int64\n"
     ]
    },
    {
     "name": "stderr",
     "output_type": "stream",
     "text": [
      "/var/folders/tx/7d0rdqt930q3m1lsb2vvbfj40000gn/T/ipykernel_29197/553820924.py:1: FutureWarning: A value is trying to be set on a copy of a DataFrame or Series through chained assignment using an inplace method.\n",
      "The behavior will change in pandas 3.0. This inplace method will never work because the intermediate object on which we are setting values always behaves as a copy.\n",
      "\n",
      "For example, when doing 'df[col].method(value, inplace=True)', try using 'df.method({col: value}, inplace=True)' or df[col] = df[col].method(value) instead, to perform the operation inplace on the original object.\n",
      "\n",
      "\n",
      "  telemedicine_use['Value'].fillna(-1, inplace=True)\n"
     ]
    }
   ],
   "source": [
    "telemedicine_use['Value'].fillna(-1, inplace=True)\n",
    "\n",
    "# Verify that missing values in the \"Value\" column are filled\n",
    "print(\"Missing values in telemedicine_use after filling 'Value' column:\")\n",
    "print(telemedicine_use.isnull().sum())\n"
   ]
  },
  {
   "cell_type": "code",
   "execution_count": 5,
   "metadata": {},
   "outputs": [
    {
     "data": {
      "text/html": [
       "<div>\n",
       "<style scoped>\n",
       "    .dataframe tbody tr th:only-of-type {\n",
       "        vertical-align: middle;\n",
       "    }\n",
       "\n",
       "    .dataframe tbody tr th {\n",
       "        vertical-align: top;\n",
       "    }\n",
       "\n",
       "    .dataframe thead th {\n",
       "        text-align: right;\n",
       "    }\n",
       "</style>\n",
       "<table border=\"1\" class=\"dataframe\">\n",
       "  <thead>\n",
       "    <tr style=\"text-align: right;\">\n",
       "      <th></th>\n",
       "      <th>Year-Quarter</th>\n",
       "      <th>State</th>\n",
       "      <th>Year</th>\n",
       "      <th>Month</th>\n",
       "      <th>TelehealthType</th>\n",
       "      <th>ServiceCount</th>\n",
       "      <th>RatePer1000Beneficiaries</th>\n",
       "    </tr>\n",
       "  </thead>\n",
       "  <tbody>\n",
       "    <tr>\n",
       "      <th>0</th>\n",
       "      <td>2018-1</td>\n",
       "      <td>Alabama</td>\n",
       "      <td>2018</td>\n",
       "      <td>1</td>\n",
       "      <td>Live audio/video</td>\n",
       "      <td>6905</td>\n",
       "      <td>5.6</td>\n",
       "    </tr>\n",
       "    <tr>\n",
       "      <th>1</th>\n",
       "      <td>2018-1</td>\n",
       "      <td>Alabama</td>\n",
       "      <td>2018</td>\n",
       "      <td>2</td>\n",
       "      <td>Live audio/video</td>\n",
       "      <td>4821</td>\n",
       "      <td>3.9</td>\n",
       "    </tr>\n",
       "    <tr>\n",
       "      <th>2</th>\n",
       "      <td>2018-1</td>\n",
       "      <td>Alabama</td>\n",
       "      <td>2018</td>\n",
       "      <td>3</td>\n",
       "      <td>Live audio/video</td>\n",
       "      <td>2269</td>\n",
       "      <td>1.8</td>\n",
       "    </tr>\n",
       "    <tr>\n",
       "      <th>3</th>\n",
       "      <td>2018-2</td>\n",
       "      <td>Alabama</td>\n",
       "      <td>2018</td>\n",
       "      <td>4</td>\n",
       "      <td>Live audio/video</td>\n",
       "      <td>2290</td>\n",
       "      <td>1.8</td>\n",
       "    </tr>\n",
       "    <tr>\n",
       "      <th>4</th>\n",
       "      <td>2018-2</td>\n",
       "      <td>Alabama</td>\n",
       "      <td>2018</td>\n",
       "      <td>5</td>\n",
       "      <td>Live audio/video</td>\n",
       "      <td>2380</td>\n",
       "      <td>1.9</td>\n",
       "    </tr>\n",
       "    <tr>\n",
       "      <th>...</th>\n",
       "      <td>...</td>\n",
       "      <td>...</td>\n",
       "      <td>...</td>\n",
       "      <td>...</td>\n",
       "      <td>...</td>\n",
       "      <td>...</td>\n",
       "      <td>...</td>\n",
       "    </tr>\n",
       "    <tr>\n",
       "      <th>3869</th>\n",
       "      <td>2022-3</td>\n",
       "      <td>Wyoming</td>\n",
       "      <td>2022</td>\n",
       "      <td>9</td>\n",
       "      <td>Live audio/video</td>\n",
       "      <td>2977</td>\n",
       "      <td>34.2</td>\n",
       "    </tr>\n",
       "    <tr>\n",
       "      <th>3870</th>\n",
       "      <td>2022-4</td>\n",
       "      <td>Wyoming</td>\n",
       "      <td>2022</td>\n",
       "      <td>10</td>\n",
       "      <td>Live audio/video</td>\n",
       "      <td>2987</td>\n",
       "      <td>34.2</td>\n",
       "    </tr>\n",
       "    <tr>\n",
       "      <th>3871</th>\n",
       "      <td>2022-4</td>\n",
       "      <td>Wyoming</td>\n",
       "      <td>2022</td>\n",
       "      <td>10</td>\n",
       "      <td>Remote patient monitoring</td>\n",
       "      <td>40</td>\n",
       "      <td>0.5</td>\n",
       "    </tr>\n",
       "    <tr>\n",
       "      <th>3872</th>\n",
       "      <td>2022-4</td>\n",
       "      <td>Wyoming</td>\n",
       "      <td>2022</td>\n",
       "      <td>11</td>\n",
       "      <td>Live audio/video</td>\n",
       "      <td>3247</td>\n",
       "      <td>36.7</td>\n",
       "    </tr>\n",
       "    <tr>\n",
       "      <th>3873</th>\n",
       "      <td>2022-4</td>\n",
       "      <td>Wyoming</td>\n",
       "      <td>2022</td>\n",
       "      <td>12</td>\n",
       "      <td>Live audio/video</td>\n",
       "      <td>3189</td>\n",
       "      <td>35.7</td>\n",
       "    </tr>\n",
       "  </tbody>\n",
       "</table>\n",
       "<p>3874 rows × 7 columns</p>\n",
       "</div>"
      ],
      "text/plain": [
       "     Year-Quarter    State  Year  Month             TelehealthType  \\\n",
       "0          2018-1  Alabama  2018      1           Live audio/video   \n",
       "1          2018-1  Alabama  2018      2           Live audio/video   \n",
       "2          2018-1  Alabama  2018      3           Live audio/video   \n",
       "3          2018-2  Alabama  2018      4           Live audio/video   \n",
       "4          2018-2  Alabama  2018      5           Live audio/video   \n",
       "...           ...      ...   ...    ...                        ...   \n",
       "3869       2022-3  Wyoming  2022      9           Live audio/video   \n",
       "3870       2022-4  Wyoming  2022     10           Live audio/video   \n",
       "3871       2022-4  Wyoming  2022     10  Remote patient monitoring   \n",
       "3872       2022-4  Wyoming  2022     11           Live audio/video   \n",
       "3873       2022-4  Wyoming  2022     12           Live audio/video   \n",
       "\n",
       "     ServiceCount  RatePer1000Beneficiaries  \n",
       "0           6905                        5.6  \n",
       "1           4821                        3.9  \n",
       "2           2269                        1.8  \n",
       "3           2290                        1.8  \n",
       "4           2380                        1.9  \n",
       "...           ...                       ...  \n",
       "3869        2977                       34.2  \n",
       "3870        2987                       34.2  \n",
       "3871          40                        0.5  \n",
       "3872        3247                       36.7  \n",
       "3873        3189                       35.7  \n",
       "\n",
       "[3874 rows x 7 columns]"
      ]
     },
     "execution_count": 5,
     "metadata": {},
     "output_type": "execute_result"
    }
   ],
   "source": [
    "telemedicine_services[\"ServiceCount\"] = telemedicine_services[\"ServiceCount\"].astype(str).str.replace(\",\", \"\")\n",
    "telemedicine_services\n"
   ]
  },
  {
   "cell_type": "code",
   "execution_count": 6,
   "metadata": {},
   "outputs": [],
   "source": [
    "# Modify \"District Of Columbia\" in the State column by changing \"O\" to lowercase \"o\"\n",
    "medicare_tele_trends['State'] = medicare_tele_trends['State'].str.replace(\"Of\", \"of\")"
   ]
  },
  {
   "cell_type": "code",
   "execution_count": 7,
   "metadata": {},
   "outputs": [],
   "source": [
    "def remove_single_quotes1(df):\n",
    "    df = df.applymap(lambda x: x.replace(\"'\", \"\") if isinstance(x, str) else x)\n",
    "    df = df.applymap(lambda x: x.replace(\",\", \"\") if isinstance(x, str) else x)\n"
   ]
  },
  {
   "cell_type": "code",
   "execution_count": 8,
   "metadata": {},
   "outputs": [
    {
     "name": "stderr",
     "output_type": "stream",
     "text": [
      "/var/folders/tx/7d0rdqt930q3m1lsb2vvbfj40000gn/T/ipykernel_29197/3740963860.py:2: FutureWarning: DataFrame.applymap has been deprecated. Use DataFrame.map instead.\n",
      "  df = df.applymap(lambda x: x.replace(\"'\", \"\") if isinstance(x, str) else x)\n",
      "/var/folders/tx/7d0rdqt930q3m1lsb2vvbfj40000gn/T/ipykernel_29197/3740963860.py:3: FutureWarning: DataFrame.applymap has been deprecated. Use DataFrame.map instead.\n",
      "  df = df.applymap(lambda x: x.replace(\",\", \"\") if isinstance(x, str) else x)\n"
     ]
    }
   ],
   "source": [
    "remove_single_quotes1(telemedicine_use)\n",
    "remove_single_quotes1(telemedicine_services)\n",
    "remove_single_quotes1(medicare_tele_trends)"
   ]
  },
  {
   "cell_type": "code",
   "execution_count": 9,
   "metadata": {},
   "outputs": [],
   "source": [
    "\n",
    "# Modify \"District Of Columbia\" in the State column by changing \"O\" to lowercase \"o\"\n",
    "telemedicine_use['Subgroup'] = telemedicine_use['Subgroup'].str.replace(\"'s\", \"\")\n"
   ]
  },
  {
   "cell_type": "code",
   "execution_count": 10,
   "metadata": {},
   "outputs": [],
   "source": [
    "#define insert function for patients\n",
    "\n",
    "def generate_insert_patients(df, table_name=\"Patients\"):\n",
    "\n",
    "    # Rename columns to match the SQL schema\n",
    "    df.rename(columns={\n",
    "        \"Year-Quarter\": \"year_quarter\",\n",
    "        \"Group\": \"group_category\",\n",
    "        \"State\": \"state_name\",\n",
    "        \"Subgroup\": \"subgroup\",\n",
    "        \"Value\": \"value\"\n",
    "    }, inplace=True)\n",
    "\n",
    "    # Generate INSERT statements\n",
    "    insert_statements = []\n",
    "    for _, row in df.iterrows():\n",
    "        statement = f\"\"\"INSERT INTO {table_name} (row_id, year_quarter, state_name, group_category, subgroup, value)\n",
    "        VALUES ({row['row_id']}, '{row['year_quarter']}', '{row['state_name']}', '{row['group_category']}', '{row['subgroup']}', {row['value']});\"\"\"\n",
    "        insert_statements.append(statement)\n",
    "\n",
    "    return insert_statements"
   ]
  },
  {
   "cell_type": "code",
   "execution_count": 11,
   "metadata": {},
   "outputs": [
    {
     "name": "stdout",
     "output_type": "stream",
     "text": [
      "SQL file successfully saved at: result/insert_patients.sql\n"
     ]
    }
   ],
   "source": [
    "#write insert sql for patients\n",
    "sql_statements = generate_insert_patients(telemedicine_use)\n",
    "\n",
    "# Define output path\n",
    "output_path = \"result/insert_patients.sql\"\n",
    "\n",
    "# Write the SQL statements to a file\n",
    "with open(output_path, \"w\") as f:\n",
    "    for stmt in sql_statements:\n",
    "        f.write(stmt + \"\\n\")\n",
    "\n",
    "print(f\"SQL file successfully saved at: {output_path}\")"
   ]
  },
  {
   "cell_type": "code",
   "execution_count": 12,
   "metadata": {},
   "outputs": [],
   "source": [
    "\n",
    "def generate_insert_bene(df, table_name=\"Beneficiary\"):\n",
    "    # Rename columns to match the SQL schema\n",
    "    df.rename(columns={\n",
    "        \"Year-Quarter\": \"year_quarter\",\n",
    "        \"State\": \"state_name\",\n",
    "        \"Bene_Sex_Desc\": \"sex\",\n",
    "        \"Bene_Age_Desc\": \"age_group\",\n",
    "        \"Total_Bene_TH_Elig\": \"total_bene_th_elig\",\n",
    "        \"Total_Bene_Telehealth\": \"total_bene_telehealth\",\n",
    "        \"Pct_Telehealth\": \"pct_telehealth\"\n",
    "    }, inplace=True)\n",
    "\n",
    "    # Generate INSERT statements\n",
    "    insert_statements = []\n",
    "    for _, row in df.iterrows():\n",
    "        statement = f\"\"\"INSERT INTO {table_name} (row_id, year_quarter, state_name, sex, age_group, total_bene_th_elig, total_bene_telehealth, pct_telehealth)\n",
    "        VALUES ({row['row_id']}, '{row['year_quarter']}', '{row['state_name']}', '{row['sex']}', '{row['age_group']}', {row['total_bene_th_elig']}, {row['total_bene_telehealth']}, {row['pct_telehealth']});\"\"\"\n",
    "        insert_statements.append(statement)\n",
    "\n",
    "    return insert_statements\n"
   ]
  },
  {
   "cell_type": "code",
   "execution_count": 13,
   "metadata": {},
   "outputs": [
    {
     "name": "stdout",
     "output_type": "stream",
     "text": [
      "SQL file successfully saved at: result/insert_beneficiary.sql\n"
     ]
    }
   ],
   "source": [
    "\n",
    "\n",
    "# Generate SQL statements\n",
    "sql_statements = generate_insert_bene(medicare_tele_trends)\n",
    "\n",
    "# Define output path\n",
    "output_path = \"result/insert_beneficiary.sql\"\n",
    "\n",
    "# Write the SQL statements to a file\n",
    "with open(output_path, \"w\") as f:\n",
    "    for stmt in sql_statements:\n",
    "        f.write(stmt + \"\\n\")\n",
    "\n",
    "print(f\"SQL file successfully saved at: {output_path}\")"
   ]
  },
  {
   "cell_type": "code",
   "execution_count": 14,
   "metadata": {},
   "outputs": [],
   "source": [
    "\n",
    "def generate_insert_serc(df, table_name=\"ServiceCount\"):\n",
    "    # Rename columns to match the SQL schema\n",
    "    df.rename(columns={\n",
    "        \"Year-Quarter\": \"year_quarter\",\n",
    "        \"State\": \"state_name\",\n",
    "        \"Year\": \"year\",\n",
    "        \"Month\": \"month\",\n",
    "        \"TelehealthType\": \"service_type\",\n",
    "        \"ServiceCount\": \"service_count\",\n",
    "        \"RatePer1000Beneficiaries\": \"rate_per_1000_beneficiaries\"\n",
    "    }, inplace=True)\n",
    "\n",
    "    # Generate INSERT statements\n",
    "    insert_statements = []\n",
    "    for _, row in df.iterrows():\n",
    "        statement = f\"\"\"INSERT INTO {table_name} (year_quarter, state_name, year, month, service_type, service_count, rate_per_1000_beneficiaries)\n",
    "        VALUES ('{row['year_quarter']}', '{row['state_name']}', {row['year']}, {row['month']}, '{row['service_type']}', {row['service_count']}, {row['rate_per_1000_beneficiaries']});\"\"\"\n",
    "        insert_statements.append(statement)\n",
    "\n",
    "    return insert_statements\n",
    "\n"
   ]
  },
  {
   "cell_type": "code",
   "execution_count": 15,
   "metadata": {},
   "outputs": [
    {
     "name": "stdout",
     "output_type": "stream",
     "text": [
      "SQL file successfully saved at: result/insert_service_count.sql\n"
     ]
    }
   ],
   "source": [
    "\n",
    "# Generate SQL statements\n",
    "sql_statements = generate_insert_serc(telemedicine_services)\n",
    "\n",
    "# Define output path\n",
    "output_path = \"result/insert_service_count.sql\"\n",
    "\n",
    "# Write the SQL statements to a file\n",
    "with open(output_path, \"w\") as f:\n",
    "    for stmt in sql_statements:\n",
    "        f.write(stmt + \"\\n\")\n",
    "\n",
    "print(f\"SQL file successfully saved at: {output_path}\")\n"
   ]
  },
  {
   "cell_type": "code",
   "execution_count": 16,
   "metadata": {},
   "outputs": [],
   "source": [
    "# # Display the unique states directly in the output\n",
    "# print(\"Unique States in Medicare Tele Trends:\")\n",
    "# print(f\"Count: {len(unique_states_medicare)}\")\n",
    "# print(unique_states_medicare)\n",
    "# print(\"\\n\")\n",
    "\n",
    "# print(\"Unique States in Telemedicine Use:\")\n",
    "# print(f\"Count: {len(unique_states_teleuse)}\")\n",
    "# print(unique_states_teleuse)\n",
    "# print(\"\\n\")\n",
    "\n",
    "# print(\"Unique States in Telemedicine Services:\")\n",
    "# print(f\"Count: {len(unique_states_teleservice)}\")\n",
    "# print(unique_states_teleservice)\n"
   ]
  },
  {
   "cell_type": "code",
   "execution_count": 17,
   "metadata": {},
   "outputs": [],
   "source": [
    "# # Find states that are in Medicare Tele Trends but not in the other two datasets\n",
    "# unique_medicare = set(unique_states_medicare)\n",
    "# unique_teleuse = set(unique_states_teleuse)\n",
    "# unique_teleservice = set(unique_states_teleservice)\n",
    "\n",
    "# # Identify the states that are only in Medicare Tele Trends\n",
    "# exclusive_medicare_states = unique_medicare - (unique_teleservice | unique_teleuse )\n",
    "# exclusive_medicare_states = unique_teleuse - (unique_medicare | unique_teleservice )\n",
    "# # Display the result\n",
    "# exclusive_medicare_states\n"
   ]
  },
  {
   "cell_type": "code",
   "execution_count": 18,
   "metadata": {},
   "outputs": [],
   "source": [
    "# us_states = {\n",
    "#     \"Alabama\", \"Alaska\", \"Arizona\", \"Arkansas\", \"California\", \"Colorado\", \n",
    "#     \"Connecticut\", \"Delaware\", \"Florida\", \"Georgia\", \"Hawaii\", \"Idaho\", \n",
    "#     \"Illinois\", \"Indiana\", \"Iowa\", \"Kansas\", \"Kentucky\", \"Louisiana\", \n",
    "#     \"Maine\", \"Maryland\", \"Massachusetts\", \"Michigan\", \"Minnesota\", \n",
    "#     \"Mississippi\", \"Missouri\", \"Montana\", \"Nebraska\", \"Nevada\", \n",
    "#     \"New Hampshire\", \"New Jersey\", \"New Mexico\", \"New York\", \n",
    "#     \"North Carolina\", \"North Dakota\", \"Ohio\", \"Oklahoma\", \"Oregon\", \n",
    "#     \"Pennsylvania\", \"Rhode Island\", \"South Carolina\", \"South Dakota\", \n",
    "#     \"Tennessee\", \"Texas\", \"Utah\", \"Vermont\", \"Virginia\", \"Washington\", \n",
    "#     \"West Virginia\", \"Wisconsin\", \"Wyoming\", \"National\", \"United States\"\n",
    "# }\n",
    "\n",
    "# print(len(us_states))  # Confirm the number of unique states\n"
   ]
  },
  {
   "cell_type": "code",
   "execution_count": 19,
   "metadata": {},
   "outputs": [],
   "source": [
    "# unique_medicare = unique_medicare - us_states\n",
    "# unique_teleservice = unique_teleservice - us_states\n",
    "# unique_teleuse = unique_teleuse - us_states\n",
    "# print(unique_medicare)\n",
    "# print(unique_teleservice)\n",
    "# print(unique_teleuse)\n",
    "\n"
   ]
  },
  {
   "cell_type": "code",
   "execution_count": null,
   "metadata": {},
   "outputs": [],
   "source": []
  }
 ],
 "metadata": {
  "kernelspec": {
   "display_name": "Python 3 (ipykernel)",
   "language": "python",
   "name": "python3"
  },
  "language_info": {
   "codemirror_mode": {
    "name": "ipython",
    "version": 3
   },
   "file_extension": ".py",
   "mimetype": "text/x-python",
   "name": "python",
   "nbconvert_exporter": "python",
   "pygments_lexer": "ipython3",
   "version": "3.12.2"
  }
 },
 "nbformat": 4,
 "nbformat_minor": 4
}
