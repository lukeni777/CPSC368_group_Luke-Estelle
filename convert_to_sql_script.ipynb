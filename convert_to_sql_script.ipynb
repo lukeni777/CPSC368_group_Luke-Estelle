{
 "cells": [
  {
   "cell_type": "code",
   "execution_count": 2,
   "metadata": {
    "vscode": {
     "languageId": "plaintext"
    }
   },
   "outputs": [],
   "source": [
    "import pandas as pd \n",
    "import numpy as np "
   ]
  },
  {
   "cell_type": "code",
   "execution_count": 3,
   "metadata": {},
   "outputs": [
    {
     "name": "stdout",
     "output_type": "stream",
     "text": [
      "(23685, 8)\n",
      "(3292, 6)\n",
      "(3874, 7)\n"
     ]
    }
   ],
   "source": [
    "beneficiary = pd.read_csv('data/clean/medtrend_for_sql.csv')\n",
    "patients = pd.read_csv('data/clean/telemeduse_for_sql.csv')\n",
    "service_count = pd.read_csv('data/clean/tele_service_for_sql.csv')\n",
    "\n",
    "print(beneficiary.shape)\n",
    "print(patients.shape)\n",
    "print(service_count.shape)"
   ]
  },
  {
   "cell_type": "code",
   "execution_count": 4,
   "metadata": {},
   "outputs": [
    {
     "name": "stdout",
     "output_type": "stream",
     "text": [
      "Missing values in Beneficiary dataset:\n",
      "row_id                   0\n",
      "Year-Quarter             0\n",
      "State                    0\n",
      "Bene_Sex_Desc            0\n",
      "Bene_Age_Desc            0\n",
      "Total_Bene_TH_Elig       0\n",
      "Total_Bene_Telehealth    0\n",
      "Pct_Telehealth           0\n",
      "dtype: int64\n",
      "\n",
      "Missing values in Patients dataset:\n",
      "row_id            0\n",
      "Year-Quarter      0\n",
      "Group             0\n",
      "State             0\n",
      "Subgroup          0\n",
      "Value           188\n",
      "dtype: int64\n",
      "\n",
      "Missing values in ServiceCount dataset:\n",
      "Year-Quarter                0\n",
      "State                       0\n",
      "Year                        0\n",
      "Month                       0\n",
      "TelehealthType              0\n",
      "ServiceCount                0\n",
      "RatePer1000Beneficiaries    0\n",
      "dtype: int64\n"
     ]
    }
   ],
   "source": [
    "# Check for missing values\n",
    "print(\"Missing values in Beneficiary dataset:\")\n",
    "print(beneficiary.isna().sum())\n",
    "\n",
    "print(\"\\nMissing values in Patients dataset:\")\n",
    "print(patients.isna().sum())\n",
    "\n",
    "print(\"\\nMissing values in ServiceCount dataset:\")\n",
    "print(service_count.isna().sum())"
   ]
  },
  {
   "cell_type": "code",
   "execution_count": 5,
   "metadata": {},
   "outputs": [
    {
     "name": "stderr",
     "output_type": "stream",
     "text": [
      "/var/folders/tx/7d0rdqt930q3m1lsb2vvbfj40000gn/T/ipykernel_41222/125188313.py:2: FutureWarning: A value is trying to be set on a copy of a DataFrame or Series through chained assignment using an inplace method.\n",
      "The behavior will change in pandas 3.0. This inplace method will never work because the intermediate object on which we are setting values always behaves as a copy.\n",
      "\n",
      "For example, when doing 'df[col].method(value, inplace=True)', try using 'df.method({col: value}, inplace=True)' or df[col] = df[col].method(value) instead, to perform the operation inplace on the original object.\n",
      "\n",
      "\n",
      "  patients['Value'].fillna(-1, inplace=True)\n"
     ]
    }
   ],
   "source": [
    "\n",
    "# Impute missing values in 'Value' column with -1\n",
    "patients['Value'].fillna(-1, inplace=True)"
   ]
  },
  {
   "cell_type": "code",
   "execution_count": null,
   "metadata": {},
   "outputs": [],
   "source": []
  }
 ],
 "metadata": {
  "kernelspec": {
   "display_name": "Python 3 (ipykernel)",
   "language": "python",
   "name": "python3"
  },
  "language_info": {
   "codemirror_mode": {
    "name": "ipython",
    "version": 3
   },
   "file_extension": ".py",
   "mimetype": "text/x-python",
   "name": "python",
   "nbconvert_exporter": "python",
   "pygments_lexer": "ipython3",
   "version": "3.12.2"
  }
 },
 "nbformat": 4,
 "nbformat_minor": 4
}
